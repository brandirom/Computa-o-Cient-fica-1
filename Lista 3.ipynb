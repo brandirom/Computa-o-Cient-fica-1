{
 "cells": [
  {
   "cell_type": "markdown",
   "id": "7d5a030c",
   "metadata": {},
   "source": [
    "# Lista III:"
   ]
  },
  {
   "cell_type": "markdown",
   "id": "b72f6902",
   "metadata": {},
   "source": [
    "# Questão 1:\n",
    "seja:$$I(F)=\\int_{-1}^{1} f(t) \\,dt$$\n",
    "então:$$I(αx+βg)=αI(x)+βI(y)$$\n",
    "$$I(αx+βy)=\\int_{-1}^{1} αx(t)+βy(t) \\,dt$$\n",
    "$$\\int_{-1}^{1} αx(t)+βy(t) \\,dt=\\int_{-1}^{1}αx(t)\\,dt+\\int_{-1}^{1} βy(t)\\,dt$$\n",
    "$$\\int_{-1}^{1}αx(t)\\,dt+\\int_{-1}^{1} βy(t)\\,dt=αI(x)+βI(y)$$"
   ]
  },
  {
   "cell_type": "markdown",
   "id": "4031cfde",
   "metadata": {},
   "source": [
    "# Questão 2:\n",
    "Sendo:\n",
    "$$I(F)=\\int_{-1}^{1} f(t) \\,dt$$\n",
    "e:\n",
    "$$g(z) = \\sum g_jz^j$$\n",
    "\n",
    "Então:\n",
    "$$I(g(z)) = \\int_{-1}^{1}\\sum_{0}^{n-1} g_jz^j\\,dz$$\n",
    "$$\\int_{-1}^{1}\\sum_{0}^{n-1}  g_jz^j\\,dz=\\sum_{0}^{n-1} g_j \\int_{-1}^{1}z^j\\,dz$$\n",
    "$$\\sum_{0}^{n-1} g_j \\int_{-1}^{1}z^j\\,dz=\\sum_{0}^{n-1} g_j\\frac{1-(-1)^{1+j}}{j+1}$$"
   ]
  },
  {
   "cell_type": "markdown",
   "id": "f2f85a40",
   "metadata": {},
   "source": [
    "# Questão 3:\n"
   ]
  },
  {
   "cell_type": "code",
   "execution_count": null,
   "id": "679e5c81",
   "metadata": {},
   "outputs": [],
   "source": []
  }
 ],
 "metadata": {
  "kernelspec": {
   "display_name": "Python 3 (ipykernel)",
   "language": "python",
   "name": "python3"
  },
  "language_info": {
   "codemirror_mode": {
    "name": "ipython",
    "version": 3
   },
   "file_extension": ".py",
   "mimetype": "text/x-python",
   "name": "python",
   "nbconvert_exporter": "python",
   "pygments_lexer": "ipython3",
   "version": "3.9.12"
  }
 },
 "nbformat": 4,
 "nbformat_minor": 5
}
