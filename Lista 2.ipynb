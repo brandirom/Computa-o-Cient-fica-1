{
 "cells": [
  {
   "cell_type": "markdown",
   "id": "afb7918b",
   "metadata": {},
   "source": [
    "# Lista II:"
   ]
  },
  {
   "cell_type": "markdown",
   "id": "995bf907",
   "metadata": {},
   "source": [
    "# Questão 1:\n",
    "Podemos representar as funções f nos pontos $x_i$ como $f(x_i)=Y_i$ sendo assim a interpolação polinomial de $f$ no ponto $x_i$ é igual a: $\\sum_{0}^{n} F(x_i).L_i=P(x_i)$. <br> \n",
    "Com isso podemos montar uma matrix pra representar esse polinomio:<br>\n",
    "$\n",
    "\\begin{bmatrix} x_0^n & x_0^{n-1} & x_0^{n-2} & ... & x_0 & 1 \\\\\n",
    "x_1^n & x_1^{n-1} & x_1^{n-2} & ... & x_1 & 1 \\\\\n",
    "... & ... & ... &  & ... & ... \\\\\n",
    "x_n^n & x_n^{n-1} & x_n^{n-2} & ... & x_n & 1 \\end{bmatrix} \n",
    ". \n",
    "\\begin{bmatrix} a_n \\\\ a_{n-1}\\\\ ... \\\\ a_0  \\end{bmatrix}\n",
    "=\n",
    "\\begin{bmatrix} y_0 \\\\ y_1\\\\ ... \\\\ y_n  \\end{bmatrix}\n",
    "$\n",
    "<br>\n",
    "Assim podemos definir que $L_x$ a transformação linear dos pontos das funções F, ou seja, as propriedades das transformações lineares também funcionam para a interpolação.\n",
    "<br>\n",
    "1)$L_X(f + g) =L_X(f) +L_X(g)$<br>\n",
    "suponha que $P$ é uma transformação linear de $R_m$ para $R_n$ com a matrix $L_X$, assim $P(A)=L_X(A)$ para cada vetor de A. Então: <br>\n",
    "$P(A+B)=L_X(A+B)=L_X(A)+L_X(B)$ (pela propriedade das operações de matrix)=$P(A)+P(B)$.\n",
    "<br>\n",
    "2)$L_X(k.f)=k.L_X(f)$<br>\n",
    "suponha que $P$ é uma transformação linear de $R_m$ para $R_n$ com a matrix $L_X$, assim $P(A)=L_X(A)$ para cada vetor de A. Então: <br>\n",
    "$P(k.A)=L_x*kA=kL_x*A$ (denovo pela propriedade das operações de matrix)=$kP(A)$. CQD"
   ]
  },
  {
   "cell_type": "markdown",
   "id": "0f8473e0",
   "metadata": {},
   "source": [
    "# Questão 2:\n",
    "suponha que a função $\\pi_x$ de $r_n$ para $R_m$ satisfaça as propriedades da questão acima. <br> \n",
    "considere n vetores $V_1,...,V_n$ em $R_n$ onde $V_i$ é a igéssima coordenada de $V$.<br>\n",
    "vamos escrever $\\pi_x(V_i)$ como $A_i=(A(1,i),...,A(m,i))$.<br>\n",
    "Considere agora um vetor arbritário $X=(x_1,...,x_n)$. Então: <br>\n",
    "$X=x_1V_1+...+x_nV_n$\n",
    "Pelas propriedades 1 e 2 temos:<br>\n",
    "\n",
    "$\\pi_x(X)=\\pi_x(x_1V_1)+...+\\pi_x(x_nV_n)=x_1\\pi_x(V_1)+...+x_n\\pi_x(V_n)$<br>\n",
    "$= x_1A_1+...x_nA_n =$<br>\n",
    "$x_1(A(1,1),...,A(m,1))+$<br>\n",
    "$x_2(A(1,2),...,A(m,2))+$<br>\n",
    "$.......................$<br>\n",
    "$x_n(A(1,n),...,A(m,n))=$<br>\n",
    "$(A(1,1)x_1+...+A(1,n)x_n, A(2,1)x_1+...+A(2,n)x_n,...,A(m,1)x_1+...+A(m,n)x_n)$.<br>\n",
    "que coincide com a formula para a transformação linear pela matrix $A=[[A(i,j)]]$. CQD"
   ]
  },
  {
   "cell_type": "markdown",
   "id": "138899a7",
   "metadata": {},
   "source": [
    "# Questão 3:\n",
    "É meio que intuitivo se pensarmos que $L_x(f)$ é uma transformação linear de $F$ em $L_x$.\n"
   ]
  },
  {
   "cell_type": "markdown",
   "id": "0adef621",
   "metadata": {},
   "source": [
    "# Questão 4:\n",
    "Se $π_X$ é uma aplicação de $F$ em $R_n$ e a cada função f dá o vetor $(f(x_i))$. Então:<br>"
   ]
  }
 ],
 "metadata": {
  "kernelspec": {
   "display_name": "Python 3 (ipykernel)",
   "language": "python",
   "name": "python3"
  },
  "language_info": {
   "codemirror_mode": {
    "name": "ipython",
    "version": 3
   },
   "file_extension": ".py",
   "mimetype": "text/x-python",
   "name": "python",
   "nbconvert_exporter": "python",
   "pygments_lexer": "ipython3",
   "version": "3.9.12"
  }
 },
 "nbformat": 4,
 "nbformat_minor": 5
}
